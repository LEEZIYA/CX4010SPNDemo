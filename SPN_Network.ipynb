{
  "nbformat": 4,
  "nbformat_minor": 0,
  "metadata": {
    "colab": {
      "name": "SPN Network.ipynb",
      "provenance": [],
      "collapsed_sections": []
    },
    "kernelspec": {
      "display_name": "Python 3",
      "name": "python3"
    },
    "language_info": {
      "name": "python"
    }
  },
  "cells": [
    {
      "cell_type": "markdown",
      "metadata": {
        "id": "KV1a0K_NCLEJ"
      },
      "source": [
        "#CX4010 Course Project\n",
        "##Objective\n",
        "Create a simple SPN implementation with 2 rounds of 4x4 bit S-boxes and 8 bit p-boxes."
      ]
    },
    {
      "cell_type": "markdown",
      "metadata": {
        "id": "6bNORz-2zHBB"
      },
      "source": [
        "##Generating Key. \n",
        "A random Key is generated using os.urandom"
      ]
    },
    {
      "cell_type": "code",
      "metadata": {
        "id": "RIdEh-zuOd-S"
      },
      "source": [
        "from os import urandom"
      ],
      "execution_count": null,
      "outputs": []
    },
    {
      "cell_type": "code",
      "metadata": {
        "id": "6UwP2HnGiqeO"
      },
      "source": [
        "def keyGeneration():\n",
        "  key = urandom(1)\n",
        "  key_int = int.from_bytes(key,\"big\")\n",
        "  print(bin(key_int))\n",
        "  return key_int"
      ],
      "execution_count": null,
      "outputs": []
    },
    {
      "cell_type": "markdown",
      "metadata": {
        "id": "L2P3BHt_OvAa"
      },
      "source": [
        "##S-Box\n",
        "S-box provide one-to-one substitution of blocks of data. it provides no-linearity in the encryption, but also allows decryption by being invertible.\n",
        "For this SPN network, 4x4 s-boxes with a fixed mapping is used. We use the mapping (4 A 9 2 D 8 0 E 6 B 1 C 7 F 5 3) in one of the s-boxes from a standard russian block cipher GOST R 34.12-2015. See https://en.wikipedia.org/wiki/GOST_(block_cipher)"
      ]
    },
    {
      "cell_type": "code",
      "metadata": {
        "id": "MN5P4qxGKwFG"
      },
      "source": [
        "class Sbox:\n",
        "  input = [0b0000,0b0001,0b0010,0b0011,0b0100,0b0101,0b0110,0b0111,0b1000,0b1001,0b1010,0b1011,0b1100,0b1101,0b1110,0b1111]\n",
        "  output = [0x4,0xA,0x9,0x2,0xD,0x8, 0x0, 0xE, 0x6, 0xB, 0x1,0xC, 0x7, 0xF, 0x5,0x3]\n",
        "\n",
        "                        \n",
        "  def __init__(self):\n",
        "    pass\n",
        "\n",
        "  \n",
        "  def forward(self,inputBits):\n",
        "    index = self.input.index(inputBits)\n",
        "    return self.output[index]\n",
        "  \n",
        "  def backward(self,outputBits):\n",
        "    index = self.output.index(outputBits)\n",
        "    return self.input[index]\n"
      ],
      "execution_count": null,
      "outputs": []
    },
    {
      "cell_type": "code",
      "metadata": {
        "colab": {
          "base_uri": "https://localhost:8080/"
        },
        "id": "xmXvosMXsn_I",
        "outputId": "86170ec3-f1f4-496b-edc7-0468436bbe69"
      },
      "source": [
        "## testing s-box\n",
        "box1 = Sbox()\n",
        "ct = box1.forward(0b0010)\n",
        "print(bin(ct))\n",
        "pt = box1.backward(ct)\n",
        "print(bin(pt))\n",
        "#as the decrypted plaintext is the same as input for encryption, s-box works as intended"
      ],
      "execution_count": null,
      "outputs": [
        {
          "output_type": "stream",
          "name": "stdout",
          "text": [
            "0b1001\n",
            "0b10\n"
          ]
        }
      ]
    },
    {
      "cell_type": "markdown",
      "metadata": {
        "id": "VN8g1vdFzEch"
      },
      "source": [
        "##P-box\n",
        "in SPN network, P-box permutates the bits across different blocks from output of different s-boxes, so that confusion and diffusion is achived as changes in plaintext and key are spread across multiple bits over different rounds. 8 bit p-boxes with fixed permutation is used."
      ]
    },
    {
      "cell_type": "code",
      "metadata": {
        "id": "A0JNkjbnhruc"
      },
      "source": [
        "class Pbox:\n",
        "  bitMask = [0b00000001,0b00000010,0b00000100,0b00001000,0b00010000,0b00100000,0b01000000,0b10000000]\n",
        "  permutation = [7,3,5,4,2,6,0,1]\n",
        "\n",
        "                        \n",
        "  def __init__(self):\n",
        "    pass\n",
        "\n",
        "  \n",
        "  def forward(self,inputBits):\n",
        "    output = 0\n",
        "    for i, mask in enumerate(self.bitMask):\n",
        "      bit = inputBits & mask\n",
        "      output += int(bool(bit))*self.bitMask[self.permutation[i]]\n",
        "    return output\n",
        "    \n",
        "  \n",
        "  def backward(self,outputBits):\n",
        "    output = 0\n",
        "    for i, mask in enumerate(self.bitMask):\n",
        "      bit = outputBits & mask\n",
        "      output += int(bool(bit))*self.bitMask[self.permutation.index(i)]\n",
        "    return output"
      ],
      "execution_count": null,
      "outputs": []
    },
    {
      "cell_type": "code",
      "metadata": {
        "colab": {
          "base_uri": "https://localhost:8080/"
        },
        "id": "8zMA-FlMlswU",
        "outputId": "e921f68d-1c4a-4dbd-e767-89f45da1e8a6"
      },
      "source": [
        "##testing p-box\n",
        "box2 = Pbox()\n",
        "ct = box2.forward(0b01010010)\n",
        "print(bin(ct))\n",
        "pt = box2.backward(ct)\n",
        "print(bin(pt))"
      ],
      "execution_count": null,
      "outputs": [
        {
          "output_type": "stream",
          "name": "stdout",
          "text": [
            "0b1101\n",
            "0b1010010\n"
          ]
        }
      ]
    },
    {
      "cell_type": "markdown",
      "metadata": {
        "id": "0bQdetZFTQRi"
      },
      "source": [
        "## Key extention\n",
        "Key is extention is needed so that each round of the SPN has a different sub-key. There are a variety of compliated key extention algorithms for standard block cipher such as AES and DES as they require a larger number of subkeys. Here a simple key extension algo is used as only two subkeys is needed."
      ]
    },
    {
      "cell_type": "code",
      "metadata": {
        "id": "KRmGLab1YIgy"
      },
      "source": [
        "def keyExtend(key):\n",
        "  temp = key>>4\n",
        "  key1 = temp^key\n",
        "  temp = (key&0b00001111)<<4\n",
        "  key2 = temp^key\n",
        "  return [key1,key2]\n"
      ],
      "execution_count": null,
      "outputs": []
    },
    {
      "cell_type": "code",
      "metadata": {
        "colab": {
          "base_uri": "https://localhost:8080/"
        },
        "id": "48ikczg1hHiq",
        "outputId": "b65c44b0-e547-47b9-bd9b-9e15141d9dbf"
      },
      "source": [
        "keyList = keyExtend(0b01111010)\n",
        "print(type(keyList))\n",
        "print(bin(keyList[0]))\n",
        "print(bin(keyList[1]))"
      ],
      "execution_count": 76,
      "outputs": [
        {
          "output_type": "stream",
          "name": "stdout",
          "text": [
            "<class 'list'>\n",
            "0b1111101\n",
            "0b11011010\n"
          ]
        }
      ]
    },
    {
      "cell_type": "markdown",
      "metadata": {
        "id": "AHAdcAr_hagW"
      },
      "source": [
        "##SPN network"
      ]
    },
    {
      "cell_type": "code",
      "metadata": {
        "id": "QJ-02UobhlTH"
      },
      "source": [
        "class SPN:\n",
        "  s_box = Sbox()\n",
        "  p_box = Pbox()\n",
        "\n",
        "  def __init__(self,key):\n",
        "    self.keyList = keyExtend(key)\n",
        "\n",
        "    \n",
        "  def encrypt(self,msg):\n",
        "    temp = msg\n",
        "    # print(bin(temp))\n",
        "    for key in self.keyList:\n",
        "      # apply key\n",
        "      # print(\"key:\"+bin(key))\n",
        "\n",
        "      temp = temp^key\n",
        "      # print(bin(temp))\n",
        "\n",
        "      # apply s-box\n",
        "      leftHalf = temp>>4\n",
        "      buffer = self.s_box.forward(leftHalf)\n",
        "      # print(bin(buffer))\n",
        "      rightHalf = temp&0b00001111\n",
        "      buffer = (buffer<<4)+self.s_box.forward(rightHalf)\n",
        "      # print(bin(self.s_box.forward(rightHalf)))\n",
        "      # print(bin(buffer))\n",
        "      temp = buffer\n",
        "\n",
        "      # apply p-box\n",
        "      temp = self.p_box.forward(temp)\n",
        "      # print(\"pbox\")\n",
        "      # print(bin(temp))\n",
        "\n",
        "    return temp\n",
        "\n",
        "   \n",
        "  def decrypt(self,msg):\n",
        "    # for key in keyList.reverse():\n",
        "    temp = msg\n",
        "    print(bin(temp))\n",
        "    for key in reversed(self.keyList):\n",
        "\n",
        "      # apply p-box\n",
        "      temp = self.p_box.backward(temp)\n",
        "      print(\"pbox\")\n",
        "      print(bin(temp))\n",
        "\n",
        "      # apply s-box\n",
        "      leftHalf = temp>>4\n",
        "      buffer = self.s_box.backward(leftHalf)\n",
        "      # print(bin(buffer))\n",
        "      rightHalf = temp&0b00001111\n",
        "      buffer = (buffer<<4)+self.s_box.backward(rightHalf)\n",
        "      # print(bin(self.s_box.backward(rightHalf)))\n",
        "      # print(bin(buffer))\n",
        "      temp = buffer\n",
        "\n",
        "      # apply key\n",
        "      \n",
        "      # print(\"key:\"+bin(key))\n",
        "      temp = temp^key\n",
        "      # print(bin(temp))\n",
        "\n",
        "\n",
        "    return temp\n",
        "\n"
      ],
      "execution_count": null,
      "outputs": []
    },
    {
      "cell_type": "code",
      "metadata": {
        "colab": {
          "base_uri": "https://localhost:8080/"
        },
        "id": "lHHDU9g2pLTi",
        "outputId": "4fe2b740-2033-46d7-a760-6c80313b956c"
      },
      "source": [
        "test = SPN(0b00010010)\n",
        "input = 0b00100011\n",
        "ct = test.encrypt(input)\n",
        "print(bin(ct))\n",
        "pt = test.decrypt(ct)\n",
        "print(\"decrypted plaintext\")\n",
        "print(bin(pt))\n",
        "print(\"reversible:\",input==pt)"
      ],
      "execution_count": null,
      "outputs": [
        {
          "output_type": "stream",
          "name": "stdout",
          "text": [
            "0b10010010\n",
            "0b10010010\n",
            "pbox\n",
            "0b10001001\n",
            "pbox\n",
            "0b100100\n",
            "decrypted plaintext\n",
            "0b100011\n",
            "reversible: True\n"
          ]
        }
      ]
    },
    {
      "cell_type": "markdown",
      "metadata": {
        "id": "AteBX1wqB-H9"
      },
      "source": [
        "# Linear Cryptanalysis"
      ]
    },
    {
      "cell_type": "markdown",
      "metadata": {
        "id": "2uPW7nHJgqUe"
      },
      "source": [
        "## Functions used for linear cryptanalysis"
      ]
    },
    {
      "cell_type": "code",
      "metadata": {
        "id": "ivPLbK9EnoK2"
      },
      "source": [
        "from math import fabs, ceil\n",
        "import multiprocessing\n",
        "import concurrent.futures"
      ],
      "execution_count": null,
      "outputs": []
    },
    {
      "cell_type": "code",
      "metadata": {
        "id": "RX2OHU2Wno6z"
      },
      "source": [
        "def initialize(num_p_c_pairs, sbox_bits , num_sboxes, num_rounds, min_bias, max_blocks_to_bf, do_sbox_param, do_inv_sbox_param, do_pbox_param):\n",
        "    global NUM_P_C_PAIRS, SBOX_BITS , NUM_SBOXES, NUM_ROUNDS, MIN_BIAS, MAX_BLOCKS_TO_BF, do_sbox, do_inv_sbox, do_pbox\n",
        "    NUM_P_C_PAIRS = num_p_c_pairs\n",
        "    SBOX_BITS = sbox_bits\n",
        "    NUM_SBOXES = num_sboxes\n",
        "    NUM_ROUNDS = num_rounds\n",
        "    MIN_BIAS = min_bias\n",
        "    MAX_BLOCKS_TO_BF = max_blocks_to_bf\n",
        "    do_sbox = do_sbox_param\n",
        "    do_inv_sbox = do_inv_sbox_param\n",
        "    do_pbox = do_pbox_param\n",
        "\n",
        "def analize_cipher():\n",
        "    \n",
        "    # analize the sbox and create bias table\n",
        "    table = create_bias_table()\n",
        "    table_sorted = sorted(table, key=lambda elem: fabs(elem[2]), reverse=True)\n",
        "\n",
        "    # take the best max_size results\n",
        "    max_size = 300\n",
        "    table_len = len(table_sorted)\n",
        "    if table_len > max_size:\n",
        "        print('\\n[*] reducing bias table size from {:d} to {:d}\\n'.format(table_len, max_size))\n",
        "        table_sorted = table_sorted[:max_size]\n",
        "\n",
        "    # calculate all possible linear aproximations with a bias greater than 0\n",
        "    linear_aproximations = get_linear_aproximations(table_sorted)\n",
        "    # sort the list from the best approximations to the worst\n",
        "    linear_aproximations_sorted = sort_linear_aproximations(linear_aproximations)\n",
        "    # return the sorted list of approximations\n",
        "    return linear_aproximations_sorted\n",
        "\n",
        "\n",
        "# create the bias table for the sbox\n",
        "def create_bias_table():\n",
        "\n",
        "    tablesize = 1 << SBOX_BITS\n",
        "   \n",
        "    table = []\n",
        "    for x in range(1, tablesize):\n",
        "        for y in range(1, tablesize):\n",
        "            matches = 0\n",
        "            for num in range(tablesize):\n",
        "                # calculate the parity of the number before going in the sbox\n",
        "                in_mask  = apply_mask(num, x)\n",
        "                # calculate the parity of the number after going out the sbox\n",
        "                out_mask = apply_mask(do_sbox(num), y)\n",
        "                # if the parity is the same in both cases, add a match\n",
        "                if in_mask == out_mask:\n",
        "                    matches += 1\n",
        "\n",
        "            # calculate the bias\n",
        "            bias = (matches / tablesize) - 1/2\n",
        "            # if the bias is greater than 0, save the 'x' and 'y' combination\n",
        "            if bias > MIN_BIAS:\n",
        "                table.append( [x, y, bias] )\n",
        "\n",
        "    # return the table of biases that are greater than 0\n",
        "    return table\n",
        "\n",
        "def sort_linear_aproximations(linear_aproximations):\n",
        "\n",
        "    sorted_linear_aproximations = []\n",
        "    for linear_aproximation in linear_aproximations:\n",
        "        biases = linear_aproximation['biases']\n",
        "        \n",
        "        # calculate the resulting bias following the Piling-Up Lemma\n",
        "        resulting_bias = 1\n",
        "        for _, _, bias in biases:\n",
        "            resulting_bias *= bias\n",
        "        resulting_bias *= 1 << (len(biases) - 1)\n",
        "\n",
        "        # construct the element of the list resulting list\n",
        "        x, _, _ = biases[0]\n",
        "        _, num_sbox = linear_aproximation['start']\n",
        "        entry = [resulting_bias, [num_sbox, num_to_bits(x)], linear_aproximation['state']]\n",
        "        # keep the entry only if has a bias grater than MIN_BIAS\n",
        "        if resulting_bias > MIN_BIAS:\n",
        "            sorted_linear_aproximations.append( entry )\n",
        "\n",
        "    # sort and return the result\n",
        "    sorted_linear_aproximations = sorted(sorted_linear_aproximations, key=lambda elem: fabs(elem[0]), reverse=True)\n",
        "    return sorted_linear_aproximations\n",
        "\n",
        "# calculate all the possible linear aproximations given a bias table\n",
        "def get_linear_aproximations(bias_table, current_states=None, depth=1):\n",
        "\n",
        "    # run for NUM_ROUNDS - 1 times\n",
        "    if depth == NUM_ROUNDS:\n",
        "        # delete elements that involve more than MAX_BLOCKS_TO_BF final sboxes\n",
        "        current_states = [elem for elem in current_states if len(elem['state']) <= MAX_BLOCKS_TO_BF]\n",
        "        if len(current_states) == 0:\n",
        "            exit('No linear aproximations found! May be MIN_BIAS is too high or MAX_BLOCKS_TO_BF too low.')\n",
        "        # return the linear aproximations that reach to no more than MAX_BLOCKS_TO_BF sboxes\n",
        "        return current_states\n",
        "\n",
        "    # at the beginnig, only one sbox can be chosen\n",
        "    if depth == 1:\n",
        "        # for each bias and each sbox, calculate which sboxes are reached (in the lower layer)\n",
        "        # this will be the next step's new initial state\n",
        "        current_states = []\n",
        "        for x, y, bias in bias_table:\n",
        "\n",
        "            for num_sbox in range(1, NUM_SBOXES + 1):\n",
        "\n",
        "                sboxes_reached = get_destination(num_sbox, y)\n",
        "\n",
        "                entry = {}\n",
        "                entry['start']  = [depth, num_sbox]\n",
        "                entry['biases'] = [[x, y, bias]]\n",
        "                entry['state']  = sboxes_reached\n",
        "\n",
        "                current_states.append( entry )\n",
        "        # call the function recursevely with the new current state and new depth\n",
        "        return get_linear_aproximations(bias_table, current_states, depth + 1)\n",
        "\n",
        "    else:\n",
        "        # for each set of possible states it will do the following:\n",
        "        #   for each sbox that we last reached,\n",
        "        #   it will calculate all possible moves according to the bias table.\n",
        "        #   then it will calculate all possible the combinations of choices\n",
        "        # this set of combinations, will be our next 'current_states'\n",
        "        # lastly, it will call itself recursevely\n",
        "        next_states = []\n",
        "        for current_state in current_states:\n",
        "\n",
        "            curr_pos = current_state['state']\n",
        "\n",
        "            # calculate all possible moves from 'curr_sbox'\n",
        "            possible_step_per_sbox = {}\n",
        "            num_possible_step_per_sbox = {}\n",
        "            start_sboxes = {}\n",
        "            total_combinations = 1\n",
        "            num_start_sboxes = 0\n",
        "            for curr_sbox in curr_pos:\n",
        "\n",
        "                inputs  = curr_pos[curr_sbox]\n",
        "                Y_input = bits_to_num(inputs)\n",
        "\n",
        "                possible_steps = []\n",
        "\n",
        "                # only use the biases which input matches the current sbox\n",
        "                possible_biases = [ elem for elem in bias_table if elem[0] == Y_input ]\n",
        "                for x, y, bias in possible_biases:\n",
        "\n",
        "                    sboxes_reached = get_destination(curr_sbox, y)\n",
        "\n",
        "                    step = {'to': sboxes_reached, 'path': [x, y, bias]}\n",
        "\n",
        "                    possible_steps.append(step)\n",
        "\n",
        "                num_possible_step_per_sbox[curr_sbox] = len(possible_steps)\n",
        "                if len(possible_steps) > 0:\n",
        "                   total_combinations *= len(possible_steps)\n",
        "                   possible_step_per_sbox[curr_sbox] = possible_steps\n",
        "                   start_sboxes[num_start_sboxes] = curr_sbox\n",
        "                   num_start_sboxes += 1\n",
        "\n",
        "            if total_combinations == 0:\n",
        "                continue\n",
        "\n",
        "            # combine all the possible choises of each sbox in all possible ways\n",
        "            # for example, if there are 2 sboxes and each has 4 possible moves\n",
        "            # then calculate all 16 (4x4) possible combinations.\n",
        "\n",
        "            possible_steps_combinations = []\n",
        "\n",
        "            for comb_num in range(total_combinations):\n",
        "                new_comb = []\n",
        "                new_comb.append( possible_step_per_sbox[start_sboxes[0]][comb_num % num_possible_step_per_sbox[start_sboxes[0]]] )\n",
        "\n",
        "                for sbox in start_sboxes:\n",
        "                    if sbox == 0:\n",
        "                        continue\n",
        "                    real_sbox = start_sboxes[sbox]\n",
        "\n",
        "                    mod = 1\n",
        "                    for prev_sbox in range(sbox):\n",
        "                        mod *= num_possible_step_per_sbox[start_sboxes[prev_sbox]]\n",
        "\n",
        "                    index = (comb_num / mod) % num_possible_step_per_sbox[real_sbox]\n",
        "                    index = int(index)\n",
        "\n",
        "                    new_comb.append( possible_step_per_sbox[real_sbox][index] )\n",
        "                possible_steps_combinations.append(new_comb)\n",
        "\n",
        "            # now, for each combination, check to which sboxes we reached and what are their inputs\n",
        "            # this will be the next state\n",
        "            for possible_step in possible_steps_combinations:\n",
        "\n",
        "                # save the first sbox and the previous biases\n",
        "                entry = {}\n",
        "                entry['start'] = current_state['start']\n",
        "                entry['biases'] = current_state['biases'].copy()\n",
        "                entry['state'] = {}\n",
        "\n",
        "                # add the new biases\n",
        "                for elem in possible_step:\n",
        "                    entry['biases'].append( elem['path'] )\n",
        "\n",
        "                    # add the final sboxes and their inputs\n",
        "                    for destination in elem['to']:\n",
        "                        if destination not in entry['state']:\n",
        "                            entry['state'][destination] = []\n",
        "\n",
        "                        new_bits = elem['to'][destination]\n",
        "                        entry['state'][destination] += new_bits\n",
        "\n",
        "\n",
        "                # calculate the resulting bias following the Piling-Up Lemma\n",
        "                biases = entry['biases']\n",
        "                resulting_bias = 1\n",
        "                for _, _, bias in biases:\n",
        "                    resulting_bias *= bias\n",
        "                resulting_bias *= 1 << (len(biases) - 1)\n",
        "                if resulting_bias >= MIN_BIAS:\n",
        "                    # update the next_states\n",
        "                    next_states.append( entry )\n",
        "\n",
        "\n",
        "        return get_linear_aproximations(bias_table, next_states, depth + 1)\n",
        "\n",
        "\n",
        "def apply_mask(value, mask):\n",
        "    #retrieve the parity of mask/value\n",
        "    interValue = value & mask\n",
        "    total = 0\n",
        "    while interValue > 0:\n",
        "        temp = interValue & 1\n",
        "        interValue = interValue >> 1\n",
        "        if temp == 1:\n",
        "            total = total ^ 1\n",
        "    return total\n",
        "\n",
        "\n",
        "# from an sbox and the \"output\" of a bias y,\n",
        "# calculate which sboxs will be reached and in which bits\n",
        "def get_destination(num_sbox, y):\n",
        "    # pass 'y' through the permutation\n",
        "    offset = (NUM_SBOXES - (num_sbox-1) - 1) * SBOX_BITS\n",
        "    Y = y << offset\n",
        "    # do_pbox is supposed to transpose the state, make sure is well defined!\n",
        "    permuted = do_pbox(Y)\n",
        "\n",
        "    sboxes_reached = {}\n",
        "    # sboxes go from 1 to NUM_SBOXES from left to right\n",
        "    # bits go from 1 to SBOX_BITS from left to right\n",
        "    for sbox in range(1, NUM_SBOXES + 1):\n",
        "        for bit in range(SBOX_BITS):\n",
        "            bits_offset = ((NUM_SBOXES - (sbox-1) - 1) * SBOX_BITS) + bit\n",
        "            # if 'sbox' has a 1 in the position 'bit' then take note of that\n",
        "            if permuted & (1 << bits_offset) != 0:\n",
        "                if sbox not in sboxes_reached:\n",
        "                    sboxes_reached[sbox] = []\n",
        "                sboxes_reached[sbox].append(SBOX_BITS - bit)\n",
        "    # return which sboxes where reached and in which bit\n",
        "    return sboxes_reached\n",
        "\n",
        "# convert a list of bits to an integer\n",
        "def bits_to_num(inputbits):\n",
        "    Y_input = 0\n",
        "    for input_pos in inputbits:\n",
        "        Y_input |= 1 << (SBOX_BITS - input_pos)\n",
        "    return Y_input\n",
        "\n",
        "# convert an integer to a list of it's bits\n",
        "def num_to_bits(num):\n",
        "    bits = []\n",
        "    for index in range(SBOX_BITS):\n",
        "        if (1 << index) & num > 0:\n",
        "            bits.append( SBOX_BITS - index )\n",
        "    return bits\n",
        "\n",
        "# this function eliminates the linear approximations that have\n",
        "# a bias below the MIN_BIAS threshold and then sorts the results\n",
        "\n",
        "\n",
        "\n",
        "def bit(num, n):\n",
        "    # get the nth bit of num\n",
        "    return (num >> (SBOX_BITS - n)) & 1\n",
        "\n",
        "def get_xor(plaintext, ciphertext, key, linear_aproximation):\n",
        "    _, p_data, c_data = linear_aproximation\n",
        "\n",
        "    # get the plaintext block\n",
        "    p_block_num, p_bits = p_data\n",
        "    pt = plaintext >> ((NUM_SBOXES - p_block_num) * SBOX_BITS)\n",
        "    pt = pt & ((1 << SBOX_BITS) - 1)\n",
        "\n",
        "    # calculate the plaintext's part of the xor\n",
        "    xor_pt = 0\n",
        "    for b in p_bits:\n",
        "        xor_pt = xor_pt ^ bit(pt, b)\n",
        "\n",
        "    # for each final sbox, get the according ciphertext block\n",
        "    xor_u = 0\n",
        "    i = len(c_data) - 1\n",
        "    for c_block_num in c_data:\n",
        "        c_bits = c_data[c_block_num]\n",
        "\n",
        "        # get the ciphertext block\n",
        "        ct = ciphertext >> ((NUM_SBOXES - c_block_num) * SBOX_BITS)\n",
        "        ct = ct & ((1 << SBOX_BITS) - 1)\n",
        "\n",
        "        # get the key block that corresponds with the sbox\n",
        "        k = key >> (i * SBOX_BITS)\n",
        "        k = k & ((1 << SBOX_BITS) - 1)\n",
        "\n",
        "        # xor the key and the ciphertext to get v (the sbox output)\n",
        "        v = ct ^ k\n",
        "\n",
        "        # get the sbox input\n",
        "        # do_inv_sbox is supposed to calculate the inverse of the substitution, make sure is well defined!\n",
        "        u = do_inv_sbox(v)\n",
        "\n",
        "        # calculate the input of the sbox's part of the xor\n",
        "        for b in c_bits:\n",
        "            xor_u = xor_u ^ bit(u, b)\n",
        "\n",
        "        i -= 1\n",
        "    # return the result of the full xor\n",
        "    return xor_pt ^ xor_u\n",
        "\n",
        "def get_biases_for_key_space(keystart, keyend, p_c_pairs, linear_aproximation):\n",
        "\n",
        "    try:\n",
        "        hits = [0] * (keyend - keystart)\n",
        "    except OverflowError:\n",
        "        exit('the amount of key bits to brute force is too large.')\n",
        "\n",
        "    # get the result of the aproximation for each possible key\n",
        "    for key in range(keystart, keyend):\n",
        "        for plaintext, ciphertext in p_c_pairs:\n",
        "            xor = get_xor(plaintext, ciphertext, key, linear_aproximation)\n",
        "            if xor == 0:\n",
        "                hits[keystart - key] += 1\n",
        "\n",
        "    result = {'start': keystart, 'end': keyend, 'hits': hits}\n",
        "    return result\n",
        "\n",
        "def get_biases(p_c_pairs, linear_aproximation):\n",
        "\n",
        "    # calculate how many key bits must be brute forced\n",
        "    key_bits = len(linear_aproximation[2]) * SBOX_BITS\n",
        "    try:\n",
        "        # get the key's maximum size\n",
        "        key_max  = 1 << key_bits\n",
        "    except MemoryError:\n",
        "        exit('the amount of key bits to brute force is too large.')\n",
        "\n",
        "    num_cores = multiprocessing.cpu_count()\n",
        "\n",
        "    sub_key_space = key_max // num_cores\n",
        "\n",
        "    bias_lists = []\n",
        "\n",
        "    # run in num_cores threads\n",
        "    with concurrent.futures.ThreadPoolExecutor(max_workers=num_cores) as executor:\n",
        "\n",
        "        future_list = []\n",
        "        # divide the key space into num_cores parts\n",
        "        for core in range(num_cores):\n",
        "            start = sub_key_space * core\n",
        "            end   = start + sub_key_space\n",
        "\n",
        "            future = executor.submit(get_biases_for_key_space, start, end, p_c_pairs, linear_aproximation)\n",
        "            future_list.append(future)\n",
        "\n",
        "        # get the result for each thread\n",
        "        for future in concurrent.futures.as_completed(future_list):\n",
        "            bias_lists.append(future.result())\n",
        "\n",
        "    try:\n",
        "        hits = [0] * key_max\n",
        "    except OverflowError:\n",
        "        exit('the amount of key bits to brute force is too large.')\n",
        "\n",
        "    # join all the results\n",
        "    for result in bias_lists:\n",
        "        start = result['start']\n",
        "        end   = result['end']\n",
        "        array = result['hits']\n",
        "        for hit in range(start, end):\n",
        "            hits[hit] = array[start - hit]\n",
        "\n",
        "    # calculate the bias for each key\n",
        "    bias = [ fabs(num_hits - float(NUM_P_C_PAIRS/2)) / float(NUM_P_C_PAIRS) for num_hits in hits ]\n",
        "\n",
        "    return bias\n"
      ],
      "execution_count": null,
      "outputs": []
    },
    {
      "cell_type": "markdown",
      "metadata": {
        "id": "tiW-U-Xrglnp"
      },
      "source": [
        "## Demonstration of linear cryptanalysis"
      ]
    },
    {
      "cell_type": "code",
      "metadata": {
        "id": "A_HZO0d7no4B",
        "colab": {
          "base_uri": "https://localhost:8080/"
        },
        "outputId": "78425280-3735-4371-c805-31cd4ada4b32"
      },
      "source": [
        "NUM_P_C_PAIRS = 256\n",
        "SBOX_BITS  = 4\n",
        "NUM_SBOXES = 2\n",
        "NUM_ROUNDS = 2\n",
        "MIN_BIAS = 0.008\n",
        "MAX_BLOCKS_TO_BF = 3\n",
        "\n",
        "s_box = Sbox()\n",
        "p_box = Pbox()\n",
        "\n",
        "initialize(NUM_P_C_PAIRS,\n",
        "      SBOX_BITS,\n",
        "      NUM_SBOXES,\n",
        "      NUM_ROUNDS,\n",
        "      MIN_BIAS,\n",
        "      MAX_BLOCKS_TO_BF,\n",
        "      s_box.forward,# do_sbox,\n",
        "      s_box.backward,# do_inv_sbox,\n",
        "      p_box.forward# do_pbox\n",
        "      )\n",
        "\n",
        "print('Cipher being analysed...\\n')\n",
        "linear_aproximations = analize_cipher()\n",
        "\n",
        "print('The followings are the best linear aproximations:')\n",
        "\n",
        "for i in range(10):\n",
        "    try:\n",
        "         print(linear_aproximations[i])\n",
        "    except IndexError:\n",
        "         break\n",
        "\n",
        "\n",
        "\n",
        "print('\\nThis linear aproximation with the best bias will be used:')\n",
        "linear_aproximation = linear_aproximations[0]\n",
        "\n",
        "\n",
        "end_sboxs = ', '.join(list(map(str, linear_aproximation[2])))\n",
        "print('ε: {:f}\\nstart: sbox n°{:d}\\nend sboxes:{}'.format(linear_aproximation[0], linear_aproximation[1][0], end_sboxs))\n",
        "Nl = ceil( pow(pow(linear_aproximation[0], -1), 2))\n",
        "\n",
        "print('\\nThe following key blocks will be recovered:{}'.format(' '.join(list(map(str, list(linear_aproximation[2].keys()))))))\n",
        "\n",
        "\n",
        "key = keyGeneration()\n",
        "print(\"\\nOriginal key: \",bin(key))\n",
        "subkey = keyExtend(key)\n",
        "subkey = [bin(n) for n in subkey]\n",
        "print(\"sub key:\",subkey)\n",
        "\n",
        "\n",
        "spn = SPN(key)\n",
        "p_c_pairs = []\n",
        "for pt in range(NUM_P_C_PAIRS):\n",
        "    p_c_pairs.append( [pt, spn.encrypt(pt)] )\n",
        "\n",
        "print('\\nBreaking the cypher...\\n')\n",
        "# obtain the biases given the p/c pairs and the linear aproximation\n",
        "biases = get_biases(p_c_pairs, linear_aproximation)\n",
        "\n",
        "print(\"biases\",biases)\n",
        "# get the key with the most hits\n",
        "maxResult, maxIdx = 0, 0\n",
        "for rIdx, result in enumerate(biases):\n",
        "    if result > maxResult:\n",
        "        maxResult = result\n",
        "        maxIdx    = rIdx\n",
        "print(\"maxResult\",maxResult)\n",
        "print(\"maxIdx\",maxIdx)\n",
        "\n",
        "print('\\nResult:')\n",
        "bits_found = '{:b}'.format(maxIdx).zfill(len(linear_aproximation[2])*SBOX_BITS)\n",
        "bits_found = [bits_found[i:i+SBOX_BITS] for i in range(0, len(bits_found), SBOX_BITS)]\n",
        "\n",
        "blocks_num = list(linear_aproximation[2].keys())\n",
        "\n",
        "zipped = list(zip(blocks_num, bits_found))\n",
        "\n",
        "print('Key bits might be:')\n",
        "for num_block, bits in zipped:\n",
        "    print('block {:d}: {}'.format(num_block, bits))\n",
        "\n"
      ],
      "execution_count": null,
      "outputs": [
        {
          "output_type": "stream",
          "name": "stdout",
          "text": [
            "Cipher being analysed...\n",
            "\n",
            "The followings are the best linear aproximations:\n",
            "[0.25, [1, [4]], {1: [2]}]\n",
            "[0.25, [2, [4]], {2: [1]}]\n",
            "[0.25, [1, [4]], {2: [3]}]\n",
            "[0.25, [2, [4]], {1: [4]}]\n",
            "[0.25, [1, [4, 2]], {1: [2], 2: [4]}]\n",
            "[0.25, [2, [4, 2]], {1: [3], 2: [1]}]\n",
            "[0.25, [1, [3, 2]], {1: [2], 2: [4, 2]}]\n",
            "[0.25, [2, [3, 2]], {1: [3, 1], 2: [1]}]\n",
            "[0.25, [1, [3, 2]], {1: [2], 2: [3]}]\n",
            "[0.25, [2, [3, 2]], {1: [4], 2: [1]}]\n",
            "\n",
            "This linear aproximation with the best bias will be used:\n",
            "ε: 0.250000\n",
            "start: sbox n°1\n",
            "end sboxes:1\n",
            "\n",
            "The following key blocks will be recovered:1\n",
            "0b10111011\n",
            "\n",
            "Original key:  0b10111011\n",
            "sub key: ['0b10110000', '0b1011']\n",
            "\n",
            "Breaking the cypher...\n",
            "\n",
            "biases [0.0625, 0.0625, 0.0625, 0.0625, 0.0625, 0.0625, 0.0625, 0.0625, 0.03125, 0.03125, 0.03125, 0.03125, 0.03125, 0.03125, 0.03125, 0.03125]\n",
            "maxResult 0.0625\n",
            "maxIdx 0\n",
            "\n",
            "Result:\n",
            "Key bits might be:\n",
            "block 1: 0000\n"
          ]
        }
      ]
    },
    {
      "cell_type": "code",
      "metadata": {
        "id": "M5beSHHHno1h"
      },
      "source": [
        ""
      ],
      "execution_count": null,
      "outputs": []
    },
    {
      "cell_type": "code",
      "metadata": {
        "id": "FCHVpPqNnozQ"
      },
      "source": [
        ""
      ],
      "execution_count": null,
      "outputs": []
    },
    {
      "cell_type": "code",
      "metadata": {
        "id": "qsFun02tnow0"
      },
      "source": [
        ""
      ],
      "execution_count": null,
      "outputs": []
    },
    {
      "cell_type": "code",
      "metadata": {
        "id": "elnHfuMbnolZ"
      },
      "source": [
        ""
      ],
      "execution_count": null,
      "outputs": []
    }
  ]
}